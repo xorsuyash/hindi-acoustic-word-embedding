{
  "cells": [
    {
      "cell_type": "code",
      "execution_count": null,
      "metadata": {
        "id": "UpR0c_IoP7cC",
        "colab": {
          "base_uri": "https://localhost:8080/"
        },
        "outputId": "8672643c-3e51-448b-c97b-dafd68c20b05"
      },
      "outputs": [
        {
          "output_type": "stream",
          "name": "stdout",
          "text": [
            "Mounted at /content/drive\n"
          ]
        }
      ],
      "source": [
        "from google.colab import drive\n",
        "drive.mount(\"/content/drive\")"
      ]
    },
    {
      "cell_type": "code",
      "execution_count": null,
      "metadata": {
        "colab": {
          "base_uri": "https://localhost:8080/"
        },
        "id": "yD6FAB_eRdKw",
        "outputId": "a4f52c80-4e24-4a91-b5c5-8a2e7344d7c9"
      },
      "outputs": [
        {
          "output_type": "stream",
          "name": "stdout",
          "text": [
            "/content/drive/MyDrive/c4gt\n"
          ]
        }
      ],
      "source": [
        "%cd drive/MyDrive/c4gt"
      ]
    },
    {
      "cell_type": "code",
      "execution_count": null,
      "metadata": {
        "colab": {
          "base_uri": "https://localhost:8080/"
        },
        "id": "IHK2-0KMTOiO",
        "outputId": "af91cbfd-dbd1-426b-d1a0-3657601cca84"
      },
      "outputs": [
        {
          "output_type": "stream",
          "name": "stdout",
          "text": [
            "0116_003.json  0116_003.tsv  0116_003.vtt  \u001b[0m\u001b[01;34maudio\u001b[0m/              \u001b[01;34mdmp_audio\u001b[0m/     transcription.txt\n",
            "0116_003.srt   0116_003.txt  0116_003.wav  audio_metadata.csv  DMP_audio.csv\n"
          ]
        }
      ],
      "source": [
        "%ls"
      ]
    },
    {
      "cell_type": "code",
      "execution_count": null,
      "metadata": {
        "colab": {
          "base_uri": "https://localhost:8080/"
        },
        "id": "PqSDe3DXUxa1",
        "outputId": "ba04e37f-6cac-4fb0-f1de-0acdf11f089d"
      },
      "outputs": [
        {
          "output_type": "stream",
          "name": "stdout",
          "text": [
            "Requirement already satisfied: transformers in /usr/local/lib/python3.10/dist-packages (4.40.2)\n",
            "Requirement already satisfied: torch in /usr/local/lib/python3.10/dist-packages (2.2.1+cu121)\n",
            "Collecting datasets\n",
            "  Downloading datasets-2.19.1-py3-none-any.whl (542 kB)\n",
            "\u001b[2K     \u001b[90m━━━━━━━━━━━━━━━━━━━━━━━━━━━━━━━━━━━━━━━━\u001b[0m \u001b[32m542.0/542.0 kB\u001b[0m \u001b[31m8.0 MB/s\u001b[0m eta \u001b[36m0:00:00\u001b[0m\n",
            "\u001b[?25hRequirement already satisfied: IPython in /usr/local/lib/python3.10/dist-packages (7.34.0)\n",
            "Requirement already satisfied: filelock in /usr/local/lib/python3.10/dist-packages (from transformers) (3.14.0)\n",
            "Requirement already satisfied: huggingface-hub<1.0,>=0.19.3 in /usr/local/lib/python3.10/dist-packages (from transformers) (0.20.3)\n",
            "Requirement already satisfied: numpy>=1.17 in /usr/local/lib/python3.10/dist-packages (from transformers) (1.25.2)\n",
            "Requirement already satisfied: packaging>=20.0 in /usr/local/lib/python3.10/dist-packages (from transformers) (24.0)\n",
            "Requirement already satisfied: pyyaml>=5.1 in /usr/local/lib/python3.10/dist-packages (from transformers) (6.0.1)\n",
            "Requirement already satisfied: regex!=2019.12.17 in /usr/local/lib/python3.10/dist-packages (from transformers) (2023.12.25)\n",
            "Requirement already satisfied: requests in /usr/local/lib/python3.10/dist-packages (from transformers) (2.31.0)\n",
            "Requirement already satisfied: tokenizers<0.20,>=0.19 in /usr/local/lib/python3.10/dist-packages (from transformers) (0.19.1)\n",
            "Requirement already satisfied: safetensors>=0.4.1 in /usr/local/lib/python3.10/dist-packages (from transformers) (0.4.3)\n",
            "Requirement already satisfied: tqdm>=4.27 in /usr/local/lib/python3.10/dist-packages (from transformers) (4.66.4)\n",
            "Requirement already satisfied: typing-extensions>=4.8.0 in /usr/local/lib/python3.10/dist-packages (from torch) (4.11.0)\n",
            "Requirement already satisfied: sympy in /usr/local/lib/python3.10/dist-packages (from torch) (1.12)\n",
            "Requirement already satisfied: networkx in /usr/local/lib/python3.10/dist-packages (from torch) (3.3)\n",
            "Requirement already satisfied: jinja2 in /usr/local/lib/python3.10/dist-packages (from torch) (3.1.4)\n",
            "Requirement already satisfied: fsspec in /usr/local/lib/python3.10/dist-packages (from torch) (2023.6.0)\n",
            "Collecting nvidia-cuda-nvrtc-cu12==12.1.105 (from torch)\n",
            "  Using cached nvidia_cuda_nvrtc_cu12-12.1.105-py3-none-manylinux1_x86_64.whl (23.7 MB)\n",
            "Collecting nvidia-cuda-runtime-cu12==12.1.105 (from torch)\n",
            "  Using cached nvidia_cuda_runtime_cu12-12.1.105-py3-none-manylinux1_x86_64.whl (823 kB)\n",
            "Collecting nvidia-cuda-cupti-cu12==12.1.105 (from torch)\n",
            "  Using cached nvidia_cuda_cupti_cu12-12.1.105-py3-none-manylinux1_x86_64.whl (14.1 MB)\n",
            "Collecting nvidia-cudnn-cu12==8.9.2.26 (from torch)\n",
            "  Using cached nvidia_cudnn_cu12-8.9.2.26-py3-none-manylinux1_x86_64.whl (731.7 MB)\n",
            "Collecting nvidia-cublas-cu12==12.1.3.1 (from torch)\n",
            "  Using cached nvidia_cublas_cu12-12.1.3.1-py3-none-manylinux1_x86_64.whl (410.6 MB)\n",
            "Collecting nvidia-cufft-cu12==11.0.2.54 (from torch)\n",
            "  Using cached nvidia_cufft_cu12-11.0.2.54-py3-none-manylinux1_x86_64.whl (121.6 MB)\n",
            "Collecting nvidia-curand-cu12==10.3.2.106 (from torch)\n",
            "  Using cached nvidia_curand_cu12-10.3.2.106-py3-none-manylinux1_x86_64.whl (56.5 MB)\n",
            "Collecting nvidia-cusolver-cu12==11.4.5.107 (from torch)\n",
            "  Using cached nvidia_cusolver_cu12-11.4.5.107-py3-none-manylinux1_x86_64.whl (124.2 MB)\n",
            "Collecting nvidia-cusparse-cu12==12.1.0.106 (from torch)\n",
            "  Using cached nvidia_cusparse_cu12-12.1.0.106-py3-none-manylinux1_x86_64.whl (196.0 MB)\n",
            "Collecting nvidia-nccl-cu12==2.19.3 (from torch)\n",
            "  Using cached nvidia_nccl_cu12-2.19.3-py3-none-manylinux1_x86_64.whl (166.0 MB)\n",
            "Collecting nvidia-nvtx-cu12==12.1.105 (from torch)\n",
            "  Using cached nvidia_nvtx_cu12-12.1.105-py3-none-manylinux1_x86_64.whl (99 kB)\n",
            "Requirement already satisfied: triton==2.2.0 in /usr/local/lib/python3.10/dist-packages (from torch) (2.2.0)\n",
            "Collecting nvidia-nvjitlink-cu12 (from nvidia-cusolver-cu12==11.4.5.107->torch)\n",
            "  Using cached nvidia_nvjitlink_cu12-12.4.127-py3-none-manylinux2014_x86_64.whl (21.1 MB)\n",
            "Requirement already satisfied: pyarrow>=12.0.0 in /usr/local/lib/python3.10/dist-packages (from datasets) (14.0.2)\n",
            "Requirement already satisfied: pyarrow-hotfix in /usr/local/lib/python3.10/dist-packages (from datasets) (0.6)\n",
            "Collecting dill<0.3.9,>=0.3.0 (from datasets)\n",
            "  Downloading dill-0.3.8-py3-none-any.whl (116 kB)\n",
            "\u001b[2K     \u001b[90m━━━━━━━━━━━━━━━━━━━━━━━━━━━━━━━━━━━━━━━━\u001b[0m \u001b[32m116.3/116.3 kB\u001b[0m \u001b[31m16.1 MB/s\u001b[0m eta \u001b[36m0:00:00\u001b[0m\n",
            "\u001b[?25hRequirement already satisfied: pandas in /usr/local/lib/python3.10/dist-packages (from datasets) (2.0.3)\n",
            "Collecting xxhash (from datasets)\n",
            "  Downloading xxhash-3.4.1-cp310-cp310-manylinux_2_17_x86_64.manylinux2014_x86_64.whl (194 kB)\n",
            "\u001b[2K     \u001b[90m━━━━━━━━━━━━━━━━━━━━━━━━━━━━━━━━━━━━━━━━\u001b[0m \u001b[32m194.1/194.1 kB\u001b[0m \u001b[31m26.4 MB/s\u001b[0m eta \u001b[36m0:00:00\u001b[0m\n",
            "\u001b[?25hCollecting multiprocess (from datasets)\n",
            "  Downloading multiprocess-0.70.16-py310-none-any.whl (134 kB)\n",
            "\u001b[2K     \u001b[90m━━━━━━━━━━━━━━━━━━━━━━━━━━━━━━━━━━━━━━━━\u001b[0m \u001b[32m134.8/134.8 kB\u001b[0m \u001b[31m18.8 MB/s\u001b[0m eta \u001b[36m0:00:00\u001b[0m\n",
            "\u001b[?25hRequirement already satisfied: aiohttp in /usr/local/lib/python3.10/dist-packages (from datasets) (3.9.5)\n",
            "Collecting huggingface-hub<1.0,>=0.19.3 (from transformers)\n",
            "  Downloading huggingface_hub-0.23.0-py3-none-any.whl (401 kB)\n",
            "\u001b[2K     \u001b[90m━━━━━━━━━━━━━━━━━━━━━━━━━━━━━━━━━━━━━━━━\u001b[0m \u001b[32m401.2/401.2 kB\u001b[0m \u001b[31m34.7 MB/s\u001b[0m eta \u001b[36m0:00:00\u001b[0m\n",
            "\u001b[?25hRequirement already satisfied: setuptools>=18.5 in /usr/local/lib/python3.10/dist-packages (from IPython) (67.7.2)\n",
            "Collecting jedi>=0.16 (from IPython)\n",
            "  Downloading jedi-0.19.1-py2.py3-none-any.whl (1.6 MB)\n",
            "\u001b[2K     \u001b[90m━━━━━━━━━━━━━━━━━━━━━━━━━━━━━━━━━━━━━━━━\u001b[0m \u001b[32m1.6/1.6 MB\u001b[0m \u001b[31m66.0 MB/s\u001b[0m eta \u001b[36m0:00:00\u001b[0m\n",
            "\u001b[?25hRequirement already satisfied: decorator in /usr/local/lib/python3.10/dist-packages (from IPython) (4.4.2)\n",
            "Requirement already satisfied: pickleshare in /usr/local/lib/python3.10/dist-packages (from IPython) (0.7.5)\n",
            "Requirement already satisfied: traitlets>=4.2 in /usr/local/lib/python3.10/dist-packages (from IPython) (5.7.1)\n",
            "Requirement already satisfied: prompt-toolkit!=3.0.0,!=3.0.1,<3.1.0,>=2.0.0 in /usr/local/lib/python3.10/dist-packages (from IPython) (3.0.43)\n",
            "Requirement already satisfied: pygments in /usr/local/lib/python3.10/dist-packages (from IPython) (2.16.1)\n",
            "Requirement already satisfied: backcall in /usr/local/lib/python3.10/dist-packages (from IPython) (0.2.0)\n",
            "Requirement already satisfied: matplotlib-inline in /usr/local/lib/python3.10/dist-packages (from IPython) (0.1.7)\n",
            "Requirement already satisfied: pexpect>4.3 in /usr/local/lib/python3.10/dist-packages (from IPython) (4.9.0)\n",
            "Requirement already satisfied: aiosignal>=1.1.2 in /usr/local/lib/python3.10/dist-packages (from aiohttp->datasets) (1.3.1)\n",
            "Requirement already satisfied: attrs>=17.3.0 in /usr/local/lib/python3.10/dist-packages (from aiohttp->datasets) (23.2.0)\n",
            "Requirement already satisfied: frozenlist>=1.1.1 in /usr/local/lib/python3.10/dist-packages (from aiohttp->datasets) (1.4.1)\n",
            "Requirement already satisfied: multidict<7.0,>=4.5 in /usr/local/lib/python3.10/dist-packages (from aiohttp->datasets) (6.0.5)\n",
            "Requirement already satisfied: yarl<2.0,>=1.0 in /usr/local/lib/python3.10/dist-packages (from aiohttp->datasets) (1.9.4)\n",
            "Requirement already satisfied: async-timeout<5.0,>=4.0 in /usr/local/lib/python3.10/dist-packages (from aiohttp->datasets) (4.0.3)\n",
            "Requirement already satisfied: parso<0.9.0,>=0.8.3 in /usr/local/lib/python3.10/dist-packages (from jedi>=0.16->IPython) (0.8.4)\n",
            "Requirement already satisfied: ptyprocess>=0.5 in /usr/local/lib/python3.10/dist-packages (from pexpect>4.3->IPython) (0.7.0)\n",
            "Requirement already satisfied: wcwidth in /usr/local/lib/python3.10/dist-packages (from prompt-toolkit!=3.0.0,!=3.0.1,<3.1.0,>=2.0.0->IPython) (0.2.13)\n",
            "Requirement already satisfied: charset-normalizer<4,>=2 in /usr/local/lib/python3.10/dist-packages (from requests->transformers) (3.3.2)\n",
            "Requirement already satisfied: idna<4,>=2.5 in /usr/local/lib/python3.10/dist-packages (from requests->transformers) (3.7)\n",
            "Requirement already satisfied: urllib3<3,>=1.21.1 in /usr/local/lib/python3.10/dist-packages (from requests->transformers) (2.0.7)\n",
            "Requirement already satisfied: certifi>=2017.4.17 in /usr/local/lib/python3.10/dist-packages (from requests->transformers) (2024.2.2)\n",
            "Requirement already satisfied: MarkupSafe>=2.0 in /usr/local/lib/python3.10/dist-packages (from jinja2->torch) (2.1.5)\n",
            "Requirement already satisfied: python-dateutil>=2.8.2 in /usr/local/lib/python3.10/dist-packages (from pandas->datasets) (2.8.2)\n",
            "Requirement already satisfied: pytz>=2020.1 in /usr/local/lib/python3.10/dist-packages (from pandas->datasets) (2023.4)\n",
            "Requirement already satisfied: tzdata>=2022.1 in /usr/local/lib/python3.10/dist-packages (from pandas->datasets) (2024.1)\n",
            "Requirement already satisfied: mpmath>=0.19 in /usr/local/lib/python3.10/dist-packages (from sympy->torch) (1.3.0)\n",
            "Requirement already satisfied: six>=1.5 in /usr/local/lib/python3.10/dist-packages (from python-dateutil>=2.8.2->pandas->datasets) (1.16.0)\n",
            "Installing collected packages: xxhash, nvidia-nvtx-cu12, nvidia-nvjitlink-cu12, nvidia-nccl-cu12, nvidia-curand-cu12, nvidia-cufft-cu12, nvidia-cuda-runtime-cu12, nvidia-cuda-nvrtc-cu12, nvidia-cuda-cupti-cu12, nvidia-cublas-cu12, jedi, dill, nvidia-cusparse-cu12, nvidia-cudnn-cu12, multiprocess, huggingface-hub, nvidia-cusolver-cu12, datasets\n",
            "  Attempting uninstall: huggingface-hub\n",
            "    Found existing installation: huggingface-hub 0.20.3\n",
            "    Uninstalling huggingface-hub-0.20.3:\n",
            "      Successfully uninstalled huggingface-hub-0.20.3\n",
            "Successfully installed datasets-2.19.1 dill-0.3.8 huggingface-hub-0.23.0 jedi-0.19.1 multiprocess-0.70.16 nvidia-cublas-cu12-12.1.3.1 nvidia-cuda-cupti-cu12-12.1.105 nvidia-cuda-nvrtc-cu12-12.1.105 nvidia-cuda-runtime-cu12-12.1.105 nvidia-cudnn-cu12-8.9.2.26 nvidia-cufft-cu12-11.0.2.54 nvidia-curand-cu12-10.3.2.106 nvidia-cusolver-cu12-11.4.5.107 nvidia-cusparse-cu12-12.1.0.106 nvidia-nccl-cu12-2.19.3 nvidia-nvjitlink-cu12-12.4.127 nvidia-nvtx-cu12-12.1.105 xxhash-3.4.1\n"
          ]
        }
      ],
      "source": [
        "!pip install transformers torch datasets IPython"
      ]
    },
    {
      "cell_type": "code",
      "execution_count": null,
      "metadata": {
        "id": "DLl1B7TTU_U5"
      },
      "outputs": [],
      "source": [
        "import torch\n",
        "from datasets import load_dataset\n",
        "from transformers import AutoModelForCTC, AutoProcessor,Wav2Vec2Processor,Wav2Vec2ForCTC,AutoTokenizer\n",
        "import torchaudio.functional as F\n",
        "\n",
        "class Model:\n",
        "  _instance=None\n",
        "  DEVICE=torch.device(\"cuda\" if torch.cuda.is_available() else \"cpu\")\n",
        "  MODEL_ID=\"facebook/mms-1b-all\"\n",
        "\n",
        "  def __new__(cls,*args,**kwargs):\n",
        "\n",
        "    if cls._instance is None:\n",
        "      cls._instance=super().__new__(cls)\n",
        "      cls._instance.model=Wav2Vec2ForCTC.from_pretrained(cls.MODEL_ID).to(cls.DEVICE)\n",
        "      cls._instance.processor=Wav2Vec2Processor.from_pretrained(cls.MODEL_ID)\n",
        "      cls._instance.processor.tokenizer.set_target_lang(\"hin\")\n",
        "      cls._instance.model.load_adapter(\"hin\")\n",
        "      cls._instance.tokenizer=AutoTokenizer.from_pretrained(cls.MODEL_ID)\n",
        "      cls._instance.tokenizer.set_target_lang(\"hin\")\n",
        "\n",
        "    return cls._instance\n",
        "\n",
        "  def tokenize(self,transcript):\n",
        "    tokens=self.tokenizer.tokenize(transcript)\n",
        "    token_ids=self.tokenizer.convert_tokens_to_ids(tokens)\n",
        "    return token_ids\n",
        "\n",
        "  def prepare_input(self,audio):\n",
        "\n",
        "    input_values=self.processor(audio,return_tensors=\"pt\").input_values\n",
        "    input_values=input_values.to(self.DEVICE)\n",
        "    return input_values\n",
        "\n",
        "  def inference(self, audio):\n",
        "    input_values=self.prepare_input(audio)\n",
        "\n",
        "    with torch.no_grad():\n",
        "      logits=self.model(input_values).logits\n",
        "\n",
        "    emission=logits.cpu().detach()\n",
        "\n",
        "    return emission[0]"
      ]
    },
    {
      "cell_type": "code",
      "execution_count": null,
      "metadata": {
        "id": "igf9sAt3WU0t",
        "colab": {
          "base_uri": "https://localhost:8080/"
        },
        "outputId": "5573f083-4d45-46fa-e0f3-045118a7bce3"
      },
      "outputs": [
        {
          "output_type": "stream",
          "name": "stderr",
          "text": [
            "/usr/local/lib/python3.10/dist-packages/huggingface_hub/file_download.py:1132: FutureWarning: `resume_download` is deprecated and will be removed in version 1.0.0. Downloads always resume when possible. If you want to force a new download, use `force_download=True`.\n",
            "  warnings.warn(\n",
            "Some weights of the model checkpoint at facebook/mms-1b-all were not used when initializing Wav2Vec2ForCTC: ['wav2vec2.encoder.pos_conv_embed.conv.weight_g', 'wav2vec2.encoder.pos_conv_embed.conv.weight_v']\n",
            "- This IS expected if you are initializing Wav2Vec2ForCTC from the checkpoint of a model trained on another task or with another architecture (e.g. initializing a BertForSequenceClassification model from a BertForPreTraining model).\n",
            "- This IS NOT expected if you are initializing Wav2Vec2ForCTC from the checkpoint of a model that you expect to be exactly identical (initializing a BertForSequenceClassification model from a BertForSequenceClassification model).\n",
            "Some weights of Wav2Vec2ForCTC were not initialized from the model checkpoint at facebook/mms-1b-all and are newly initialized: ['wav2vec2.encoder.pos_conv_embed.conv.parametrizations.weight.original0', 'wav2vec2.encoder.pos_conv_embed.conv.parametrizations.weight.original1']\n",
            "You should probably TRAIN this model on a down-stream task to be able to use it for predictions and inference.\n"
          ]
        }
      ],
      "source": [
        "model=Model()"
      ]
    },
    {
      "cell_type": "code",
      "execution_count": null,
      "metadata": {
        "id": "3GN0wpVdYagb"
      },
      "outputs": [],
      "source": [
        "# utils\n",
        "from dataclasses import dataclass\n",
        "\n",
        "@dataclass\n",
        "class Point:\n",
        "  token_index:int\n",
        "  time_index: int\n",
        "  score: float\n",
        "\n",
        "@dataclass\n",
        "class Segment:\n",
        "  label:str\n",
        "  start: int\n",
        "  end: int\n",
        "  score: int\n",
        "\n",
        "  def __repr__(self)->str:\n",
        "    return f\"{self.label}\\t({self.score:4.2f}): [{self.start:5d}, {self.end:5d})\"\n",
        "\n",
        "  @property\n",
        "  def length(self):\n",
        "    return self.end - self.start"
      ]
    },
    {
      "cell_type": "code",
      "execution_count": null,
      "metadata": {
        "id": "vVmImfmwZW5Z"
      },
      "outputs": [],
      "source": [
        "import torchaudio\n",
        "\n",
        "def compose_graph(emission, tokens,blank_id=0):\n",
        "\n",
        "  num_frame=emission.size(0)\n",
        "  num_tokens=len(tokens)\n",
        "\n",
        "  graph=torch.zeros((num_frame,num_tokens))\n",
        "  graph[1:,0]=torch.cumsum(emission[1:,blank_id],0)\n",
        "  graph[0,1:]=-float(\"inf\")\n",
        "  graph[-num_tokens+1:,0]=float(\"inf\")\n",
        "\n",
        "  for t in range(num_frame-1):\n",
        "\n",
        "    graph[t+1,1:]=torch.maximum(graph[t,1:]+emission[t,blank_id],\n",
        "                                graph[t,:-1]+emission[t,tokens[1:]],)\n",
        "\n",
        "  return graph\n",
        "\n",
        "def backtrack(graph,emission,tokens,blank_id=0):\n",
        "    \"\"\"\n",
        "    Backtracks the probability graph and returns\n",
        "    the most probable path using CTC and viterbi\n",
        "    algorithm.\n",
        "    Args:\n",
        "        graph: Tensor of probabilities of dim (len(emission),len(tokens)).\n",
        "        emmision: Tensor containig actual set probabilities.\n",
        "        tokens: Tokenized transcript.\n",
        "        blank_if: default 0.\n",
        "    Returns:\n",
        "        path: list of Point object containing most probable path.\n",
        "    \"\"\"\n",
        "\n",
        "    t,j=graph.size(0)-1,graph.size(1)-1\n",
        "\n",
        "    path=[Point(j,t,emission[t,blank_id].exp().item())]\n",
        "    while j>0:\n",
        "\n",
        "        assert t>0\n",
        "\n",
        "        p_stay=emission[t-1,blank_id]\n",
        "        p_change=emission[t-1,int(tokens[j])]\n",
        "\n",
        "        stayed=graph[t-1,j]+p_stay\n",
        "        changed=graph[t-1,j-1]+p_change\n",
        "\n",
        "        stayed=graph[t-1,j]+p_stay\n",
        "        changed=graph[t-1,j-1]+p_change\n",
        "\n",
        "        t-=1\n",
        "        if changed>stayed:\n",
        "            j -=1\n",
        "\n",
        "        prob=(p_change if changed>stayed else p_stay).exp().item()\n",
        "        path.append(Point(j,t,prob))\n",
        "\n",
        "    while t>0:\n",
        "        prob=emission[t-1,blank_id].exp().item()\n",
        "        path.append(Point(j,t-1,prob))\n",
        "        t-=1\n",
        "\n",
        "    return path[::-1]\n",
        "\n",
        "def merge_repeats(path,transcript):\n",
        "    i1,i2=0,0\n",
        "    segments=[]\n",
        "    while i1<len(path):\n",
        "        while i2<len(path) and path[i1].token_index == path[i2].token_index:\n",
        "            i2+=1\n",
        "        score=sum(path[k].score for k in range(i1,i2))/(i2-i1)\n",
        "\n",
        "        segments.append(\n",
        "            Segment(\n",
        "                transcript[path[i1].token_index],\n",
        "                path[i1].time_index,\n",
        "                path[i2-1].time_index+1,\n",
        "                score,\n",
        "            )\n",
        "        )\n",
        "        i1=i2\n",
        "\n",
        "    return segments\n",
        "\n",
        "def merge_words(segments, separator=\"|\"):\n",
        "    words = []\n",
        "    i1, i2 = 0, 0\n",
        "    while i1 < len(segments):\n",
        "        if i2 >= len(segments) or segments[i2].label == separator:\n",
        "            if i1 != i2:\n",
        "                segs = segments[i1:i2]\n",
        "                word = \"\".join([seg.label for seg in segs])\n",
        "                score = sum(seg.score * seg.length for seg in segs) / sum(seg.length for seg in segs)\n",
        "                words.append(Segment(word, segments[i1].start, segments[i2 - 1].end, score))\n",
        "            i1 = i2 + 1\n",
        "            i2 = i1\n",
        "        else:\n",
        "            i2 += 1\n",
        "    return words\n",
        "\n",
        "\n",
        "def generate_segments(wave_form,graph,word_segments,sample_rate):\n",
        "\n",
        "  ratio=wave_form.size(0)/graph.size(0)\n",
        "  segments=[]\n",
        "\n",
        "  for i in range(len(word_segments)):\n",
        "    word=word_segments[i]\n",
        "    x0=int(ratio*word.start)\n",
        "    x1=int(ratio*word.end)\n",
        "    time_interval=f\"{x0/ sample_rate:.3f}-{x1/sample_rate:.3f} sec\"\n",
        "    audio_seg=wave_form[x0:x1]\n",
        "    segments.append((word.label,time_interval,audio_seg))\n",
        "\n",
        "  return segments\n",
        "\n"
      ]
    },
    {
      "cell_type": "code",
      "source": [
        "import numpy as np\n",
        "import subprocess\n",
        "\n",
        "SAMPLE_RATE=16000\n",
        "\n",
        "def load_audio(file:str,sr: int=SAMPLE_RATE):\n",
        "\n",
        "    try:\n",
        "\n",
        "        cmd = [\n",
        "            \"ffmpeg\",\n",
        "            \"-nostdin\",\n",
        "            \"-threads\",\n",
        "            \"0\",\n",
        "            \"-i\",\n",
        "            file,\n",
        "            \"-f\",\n",
        "            \"s16le\",\n",
        "            \"-ac\",\n",
        "            \"1\",\n",
        "            \"-acodec\",\n",
        "            \"pcm_s16le\",\n",
        "            \"-ar\",\n",
        "            str(sr),\n",
        "            \"-\",\n",
        "        ]\n",
        "        out=subprocess.run(cmd,capture_output=True,check=True).stdout\n",
        "\n",
        "    except subprocess.CalledProcessError as e:\n",
        "\n",
        "        raise RuntimeError(f\"Failed to load audio: {e.stderr.decode()}\") from e\n",
        "\n",
        "    return np.frombuffer(out,np.int16).flatten().astype(np.float32)\n"
      ],
      "metadata": {
        "id": "L9NMikP05ecp"
      },
      "execution_count": null,
      "outputs": []
    },
    {
      "cell_type": "code",
      "source": [
        "import pandas as pd\n",
        "df=pd.read_csv(\"audio_metadata.csv\")"
      ],
      "metadata": {
        "id": "vkGdgnZA1fuL"
      },
      "execution_count": null,
      "outputs": []
    },
    {
      "cell_type": "code",
      "source": [
        "df.head()"
      ],
      "metadata": {
        "colab": {
          "base_uri": "https://localhost:8080/",
          "height": 206
        },
        "id": "BP-olLLR1ncJ",
        "outputId": "99b7b090-d7ba-4cdd-94a4-108164b86785"
      },
      "execution_count": null,
      "outputs": [
        {
          "output_type": "execute_result",
          "data": {
            "text/plain": [
              "   Unnamed: 0          audio_path  \\\n",
              "0           0  audio/0116_003.wav   \n",
              "1           1  audio/0116_008.wav   \n",
              "2           2  audio/0116_025.wav   \n",
              "3           3  audio/0116_036.wav   \n",
              "4           4  audio/0116_061.wav   \n",
              "\n",
              "                                         transcripts  \n",
              "0  और अपने पेट को माँ की स्वादिष्ट गरमगरम जलेबिया...  \n",
              "1  और अपने पेट को माँ की स्वादिष्ट गरमगरम जलेबिया...  \n",
              "2  और अपने पेट को माँ की स्वादिष्ट गरमगरम जलेबिया...  \n",
              "3  और अपने पेट को माँ की स्वादिष्ट गरमगरम जलेबिया...  \n",
              "4  और अपने पेट को माँ की स्वादिष्ट गरमगरम जलेबिया...  "
            ],
            "text/html": [
              "\n",
              "  <div id=\"df-0f7a285a-2613-4ff6-880a-484ff9cc2b6c\" class=\"colab-df-container\">\n",
              "    <div>\n",
              "<style scoped>\n",
              "    .dataframe tbody tr th:only-of-type {\n",
              "        vertical-align: middle;\n",
              "    }\n",
              "\n",
              "    .dataframe tbody tr th {\n",
              "        vertical-align: top;\n",
              "    }\n",
              "\n",
              "    .dataframe thead th {\n",
              "        text-align: right;\n",
              "    }\n",
              "</style>\n",
              "<table border=\"1\" class=\"dataframe\">\n",
              "  <thead>\n",
              "    <tr style=\"text-align: right;\">\n",
              "      <th></th>\n",
              "      <th>Unnamed: 0</th>\n",
              "      <th>audio_path</th>\n",
              "      <th>transcripts</th>\n",
              "    </tr>\n",
              "  </thead>\n",
              "  <tbody>\n",
              "    <tr>\n",
              "      <th>0</th>\n",
              "      <td>0</td>\n",
              "      <td>audio/0116_003.wav</td>\n",
              "      <td>और अपने पेट को माँ की स्वादिष्ट गरमगरम जलेबिया...</td>\n",
              "    </tr>\n",
              "    <tr>\n",
              "      <th>1</th>\n",
              "      <td>1</td>\n",
              "      <td>audio/0116_008.wav</td>\n",
              "      <td>और अपने पेट को माँ की स्वादिष्ट गरमगरम जलेबिया...</td>\n",
              "    </tr>\n",
              "    <tr>\n",
              "      <th>2</th>\n",
              "      <td>2</td>\n",
              "      <td>audio/0116_025.wav</td>\n",
              "      <td>और अपने पेट को माँ की स्वादिष्ट गरमगरम जलेबिया...</td>\n",
              "    </tr>\n",
              "    <tr>\n",
              "      <th>3</th>\n",
              "      <td>3</td>\n",
              "      <td>audio/0116_036.wav</td>\n",
              "      <td>और अपने पेट को माँ की स्वादिष्ट गरमगरम जलेबिया...</td>\n",
              "    </tr>\n",
              "    <tr>\n",
              "      <th>4</th>\n",
              "      <td>4</td>\n",
              "      <td>audio/0116_061.wav</td>\n",
              "      <td>और अपने पेट को माँ की स्वादिष्ट गरमगरम जलेबिया...</td>\n",
              "    </tr>\n",
              "  </tbody>\n",
              "</table>\n",
              "</div>\n",
              "    <div class=\"colab-df-buttons\">\n",
              "\n",
              "  <div class=\"colab-df-container\">\n",
              "    <button class=\"colab-df-convert\" onclick=\"convertToInteractive('df-0f7a285a-2613-4ff6-880a-484ff9cc2b6c')\"\n",
              "            title=\"Convert this dataframe to an interactive table.\"\n",
              "            style=\"display:none;\">\n",
              "\n",
              "  <svg xmlns=\"http://www.w3.org/2000/svg\" height=\"24px\" viewBox=\"0 -960 960 960\">\n",
              "    <path d=\"M120-120v-720h720v720H120Zm60-500h600v-160H180v160Zm220 220h160v-160H400v160Zm0 220h160v-160H400v160ZM180-400h160v-160H180v160Zm440 0h160v-160H620v160ZM180-180h160v-160H180v160Zm440 0h160v-160H620v160Z\"/>\n",
              "  </svg>\n",
              "    </button>\n",
              "\n",
              "  <style>\n",
              "    .colab-df-container {\n",
              "      display:flex;\n",
              "      gap: 12px;\n",
              "    }\n",
              "\n",
              "    .colab-df-convert {\n",
              "      background-color: #E8F0FE;\n",
              "      border: none;\n",
              "      border-radius: 50%;\n",
              "      cursor: pointer;\n",
              "      display: none;\n",
              "      fill: #1967D2;\n",
              "      height: 32px;\n",
              "      padding: 0 0 0 0;\n",
              "      width: 32px;\n",
              "    }\n",
              "\n",
              "    .colab-df-convert:hover {\n",
              "      background-color: #E2EBFA;\n",
              "      box-shadow: 0px 1px 2px rgba(60, 64, 67, 0.3), 0px 1px 3px 1px rgba(60, 64, 67, 0.15);\n",
              "      fill: #174EA6;\n",
              "    }\n",
              "\n",
              "    .colab-df-buttons div {\n",
              "      margin-bottom: 4px;\n",
              "    }\n",
              "\n",
              "    [theme=dark] .colab-df-convert {\n",
              "      background-color: #3B4455;\n",
              "      fill: #D2E3FC;\n",
              "    }\n",
              "\n",
              "    [theme=dark] .colab-df-convert:hover {\n",
              "      background-color: #434B5C;\n",
              "      box-shadow: 0px 1px 3px 1px rgba(0, 0, 0, 0.15);\n",
              "      filter: drop-shadow(0px 1px 2px rgba(0, 0, 0, 0.3));\n",
              "      fill: #FFFFFF;\n",
              "    }\n",
              "  </style>\n",
              "\n",
              "    <script>\n",
              "      const buttonEl =\n",
              "        document.querySelector('#df-0f7a285a-2613-4ff6-880a-484ff9cc2b6c button.colab-df-convert');\n",
              "      buttonEl.style.display =\n",
              "        google.colab.kernel.accessAllowed ? 'block' : 'none';\n",
              "\n",
              "      async function convertToInteractive(key) {\n",
              "        const element = document.querySelector('#df-0f7a285a-2613-4ff6-880a-484ff9cc2b6c');\n",
              "        const dataTable =\n",
              "          await google.colab.kernel.invokeFunction('convertToInteractive',\n",
              "                                                    [key], {});\n",
              "        if (!dataTable) return;\n",
              "\n",
              "        const docLinkHtml = 'Like what you see? Visit the ' +\n",
              "          '<a target=\"_blank\" href=https://colab.research.google.com/notebooks/data_table.ipynb>data table notebook</a>'\n",
              "          + ' to learn more about interactive tables.';\n",
              "        element.innerHTML = '';\n",
              "        dataTable['output_type'] = 'display_data';\n",
              "        await google.colab.output.renderOutput(dataTable, element);\n",
              "        const docLink = document.createElement('div');\n",
              "        docLink.innerHTML = docLinkHtml;\n",
              "        element.appendChild(docLink);\n",
              "      }\n",
              "    </script>\n",
              "  </div>\n",
              "\n",
              "\n",
              "<div id=\"df-ef5ccb48-7147-4196-8fd3-60efd5df7030\">\n",
              "  <button class=\"colab-df-quickchart\" onclick=\"quickchart('df-ef5ccb48-7147-4196-8fd3-60efd5df7030')\"\n",
              "            title=\"Suggest charts\"\n",
              "            style=\"display:none;\">\n",
              "\n",
              "<svg xmlns=\"http://www.w3.org/2000/svg\" height=\"24px\"viewBox=\"0 0 24 24\"\n",
              "     width=\"24px\">\n",
              "    <g>\n",
              "        <path d=\"M19 3H5c-1.1 0-2 .9-2 2v14c0 1.1.9 2 2 2h14c1.1 0 2-.9 2-2V5c0-1.1-.9-2-2-2zM9 17H7v-7h2v7zm4 0h-2V7h2v10zm4 0h-2v-4h2v4z\"/>\n",
              "    </g>\n",
              "</svg>\n",
              "  </button>\n",
              "\n",
              "<style>\n",
              "  .colab-df-quickchart {\n",
              "      --bg-color: #E8F0FE;\n",
              "      --fill-color: #1967D2;\n",
              "      --hover-bg-color: #E2EBFA;\n",
              "      --hover-fill-color: #174EA6;\n",
              "      --disabled-fill-color: #AAA;\n",
              "      --disabled-bg-color: #DDD;\n",
              "  }\n",
              "\n",
              "  [theme=dark] .colab-df-quickchart {\n",
              "      --bg-color: #3B4455;\n",
              "      --fill-color: #D2E3FC;\n",
              "      --hover-bg-color: #434B5C;\n",
              "      --hover-fill-color: #FFFFFF;\n",
              "      --disabled-bg-color: #3B4455;\n",
              "      --disabled-fill-color: #666;\n",
              "  }\n",
              "\n",
              "  .colab-df-quickchart {\n",
              "    background-color: var(--bg-color);\n",
              "    border: none;\n",
              "    border-radius: 50%;\n",
              "    cursor: pointer;\n",
              "    display: none;\n",
              "    fill: var(--fill-color);\n",
              "    height: 32px;\n",
              "    padding: 0;\n",
              "    width: 32px;\n",
              "  }\n",
              "\n",
              "  .colab-df-quickchart:hover {\n",
              "    background-color: var(--hover-bg-color);\n",
              "    box-shadow: 0 1px 2px rgba(60, 64, 67, 0.3), 0 1px 3px 1px rgba(60, 64, 67, 0.15);\n",
              "    fill: var(--button-hover-fill-color);\n",
              "  }\n",
              "\n",
              "  .colab-df-quickchart-complete:disabled,\n",
              "  .colab-df-quickchart-complete:disabled:hover {\n",
              "    background-color: var(--disabled-bg-color);\n",
              "    fill: var(--disabled-fill-color);\n",
              "    box-shadow: none;\n",
              "  }\n",
              "\n",
              "  .colab-df-spinner {\n",
              "    border: 2px solid var(--fill-color);\n",
              "    border-color: transparent;\n",
              "    border-bottom-color: var(--fill-color);\n",
              "    animation:\n",
              "      spin 1s steps(1) infinite;\n",
              "  }\n",
              "\n",
              "  @keyframes spin {\n",
              "    0% {\n",
              "      border-color: transparent;\n",
              "      border-bottom-color: var(--fill-color);\n",
              "      border-left-color: var(--fill-color);\n",
              "    }\n",
              "    20% {\n",
              "      border-color: transparent;\n",
              "      border-left-color: var(--fill-color);\n",
              "      border-top-color: var(--fill-color);\n",
              "    }\n",
              "    30% {\n",
              "      border-color: transparent;\n",
              "      border-left-color: var(--fill-color);\n",
              "      border-top-color: var(--fill-color);\n",
              "      border-right-color: var(--fill-color);\n",
              "    }\n",
              "    40% {\n",
              "      border-color: transparent;\n",
              "      border-right-color: var(--fill-color);\n",
              "      border-top-color: var(--fill-color);\n",
              "    }\n",
              "    60% {\n",
              "      border-color: transparent;\n",
              "      border-right-color: var(--fill-color);\n",
              "    }\n",
              "    80% {\n",
              "      border-color: transparent;\n",
              "      border-right-color: var(--fill-color);\n",
              "      border-bottom-color: var(--fill-color);\n",
              "    }\n",
              "    90% {\n",
              "      border-color: transparent;\n",
              "      border-bottom-color: var(--fill-color);\n",
              "    }\n",
              "  }\n",
              "</style>\n",
              "\n",
              "  <script>\n",
              "    async function quickchart(key) {\n",
              "      const quickchartButtonEl =\n",
              "        document.querySelector('#' + key + ' button');\n",
              "      quickchartButtonEl.disabled = true;  // To prevent multiple clicks.\n",
              "      quickchartButtonEl.classList.add('colab-df-spinner');\n",
              "      try {\n",
              "        const charts = await google.colab.kernel.invokeFunction(\n",
              "            'suggestCharts', [key], {});\n",
              "      } catch (error) {\n",
              "        console.error('Error during call to suggestCharts:', error);\n",
              "      }\n",
              "      quickchartButtonEl.classList.remove('colab-df-spinner');\n",
              "      quickchartButtonEl.classList.add('colab-df-quickchart-complete');\n",
              "    }\n",
              "    (() => {\n",
              "      let quickchartButtonEl =\n",
              "        document.querySelector('#df-ef5ccb48-7147-4196-8fd3-60efd5df7030 button');\n",
              "      quickchartButtonEl.style.display =\n",
              "        google.colab.kernel.accessAllowed ? 'block' : 'none';\n",
              "    })();\n",
              "  </script>\n",
              "</div>\n",
              "\n",
              "    </div>\n",
              "  </div>\n"
            ],
            "application/vnd.google.colaboratory.intrinsic+json": {
              "type": "dataframe",
              "variable_name": "df",
              "summary": "{\n  \"name\": \"df\",\n  \"rows\": 3843,\n  \"fields\": [\n    {\n      \"column\": \"Unnamed: 0\",\n      \"properties\": {\n        \"dtype\": \"number\",\n        \"std\": 1109,\n        \"min\": 0,\n        \"max\": 3842,\n        \"num_unique_values\": 3843,\n        \"samples\": [\n          1432,\n          3660,\n          1611\n        ],\n        \"semantic_type\": \"\",\n        \"description\": \"\"\n      }\n    },\n    {\n      \"column\": \"audio_path\",\n      \"properties\": {\n        \"dtype\": \"string\",\n        \"num_unique_values\": 3843,\n        \"samples\": [\n          \"audio/1432_061.wav\",\n          \"audio/5766_098.wav\",\n          \"audio/1765_028.wav\"\n        ],\n        \"semantic_type\": \"\",\n        \"description\": \"\"\n      }\n    },\n    {\n      \"column\": \"transcripts\",\n      \"properties\": {\n        \"dtype\": \"category\",\n        \"num_unique_values\": 386,\n        \"samples\": [\n          \"\\u0905\\u0926\\u093e\\u0932\\u0924 \\u0928\\u0947 \\u092e\\u093e\\u0928\\u093e \\u0924\\u094b \\u092e\\u093e\\u0928\\u093e \\u0928\\u0939\\u0940\\u0902 \\u0924\\u094b \\u0939\\u093e\\u0930 \\u092e\\u093e\\u0928\\u0928\\u0940 \\u092a\\u0921\\u093c\\u0947\\u0917\\u0940\",\n          \"\\u092e\\u0941\\u091d\\u0947 \\u0928\\u0939\\u0940\\u0902 \\u092e\\u093e\\u0932\\u0942\\u092e \\u0925\\u093e \\u0915\\u093f \\u0906\\u092a\\u0928\\u0947 \\u0939\\u0943\\u0926\\u092f \\u092e\\u0947\\u0902 \\u091b\\u0941\\u0930\\u0940 \\u091b\\u093f\\u092a\\u093e \\u0930\\u0916\\u0940 \\u0939\\u0948\",\n          \"\\u0928\\u093f\\u0936\\u093e \\u092c\\u091a\\u092a\\u0928 \\u0938\\u0947 \\u0939\\u0940 \\u0905\\u092a\\u0928\\u0947 \\u092e\\u093e\\u0901 \\u0930\\u0936\\u094d\\u092e\\u093f \\u0915\\u0947 \\u0915\\u0937\\u094d\\u091f\\u094b\\u0902 \\u0915\\u094b \\u0926\\u0947\\u0916\\u0924\\u0940 \\u091a\\u0932\\u0940 \\u0906 \\u0930\\u0939\\u0940 \\u0925\\u0940\"\n        ],\n        \"semantic_type\": \"\",\n        \"description\": \"\"\n      }\n    }\n  ]\n}"
            }
          },
          "metadata": {},
          "execution_count": 118
        }
      ]
    },
    {
      "cell_type": "code",
      "source": [
        "audio=load_audio(df[\"audio_path\"][15])\n",
        "transcript=df[\"transcripts\"][15]"
      ],
      "metadata": {
        "id": "XD05vcfh1xIN"
      },
      "execution_count": null,
      "outputs": []
    },
    {
      "cell_type": "code",
      "source": [
        "token_ids=model.tokenize(transcript)"
      ],
      "metadata": {
        "id": "eyxQMmBZ19tn"
      },
      "execution_count": null,
      "outputs": []
    },
    {
      "cell_type": "code",
      "source": [
        "emission=model.inference(audio)"
      ],
      "metadata": {
        "colab": {
          "base_uri": "https://localhost:8080/"
        },
        "id": "Tg-OFJL42Gjj",
        "outputId": "17e6384c-63aa-49c7-b8b8-1a2b2d00955c"
      },
      "execution_count": null,
      "outputs": [
        {
          "output_type": "stream",
          "name": "stderr",
          "text": [
            "It is strongly recommended to pass the ``sampling_rate`` argument to this function. Failing to do so can result in silent errors that might be hard to debug.\n"
          ]
        }
      ]
    },
    {
      "cell_type": "code",
      "source": [
        "graph=compose_graph(emission,token_ids)"
      ],
      "metadata": {
        "id": "ogJ3b-OOvMHM"
      },
      "execution_count": null,
      "outputs": []
    },
    {
      "cell_type": "code",
      "source": [
        "graph"
      ],
      "metadata": {
        "colab": {
          "base_uri": "https://localhost:8080/"
        },
        "id": "L6IA-gcZvVa3",
        "outputId": "05f43f8e-f720-4ace-8d0b-cdaf5701bbbe"
      },
      "execution_count": null,
      "outputs": [
        {
          "output_type": "execute_result",
          "data": {
            "text/plain": [
              "tensor([[ 0.0000e+00,        -inf,        -inf,  ...,        -inf,\n",
              "                -inf,        -inf],\n",
              "        [ 1.1257e+01, -1.2005e+00,        -inf,  ...,        -inf,\n",
              "                -inf,        -inf],\n",
              "        [ 2.2291e+01,  1.0727e+01, -2.1313e+00,  ...,        -inf,\n",
              "                -inf,        -inf],\n",
              "        ...,\n",
              "        [        inf,         inf,         inf,  ...,  2.8292e+03,\n",
              "          2.8363e+03,  2.8439e+03],\n",
              "        [        inf,         inf,         inf,  ...,         inf,\n",
              "          2.8378e+03,  2.8454e+03],\n",
              "        [        inf,         inf,         inf,  ...,         inf,\n",
              "                 inf,  2.8445e+03]])"
            ]
          },
          "metadata": {},
          "execution_count": 69
        }
      ]
    },
    {
      "cell_type": "code",
      "source": [
        "path=backtrack(graph,emission,token_ids)"
      ],
      "metadata": {
        "id": "Q-r3dcCXvWpO"
      },
      "execution_count": null,
      "outputs": []
    },
    {
      "cell_type": "code",
      "source": [
        "transcript"
      ],
      "metadata": {
        "colab": {
          "base_uri": "https://localhost:8080/",
          "height": 36
        },
        "id": "lG-lcDqY2Owv",
        "outputId": "27ee424c-c2c2-425e-bd3f-7b3671a3c52d"
      },
      "execution_count": null,
      "outputs": [
        {
          "output_type": "execute_result",
          "data": {
            "text/plain": [
              "'मुनिया ने उन्हें मछली पकड़ने की बंसीे ले कर जाते हुए देखा'"
            ],
            "application/vnd.google.colaboratory.intrinsic+json": {
              "type": "string"
            }
          },
          "metadata": {},
          "execution_count": 125
        }
      ]
    },
    {
      "cell_type": "code",
      "source": [
        "segments = merge_repeats(path,\"मुनिया|ने|उन्हें|मछली|पकड़ने|की|बंसीे|ले|कर|जाते|हुए|देखा\")"
      ],
      "metadata": {
        "id": "MDvSNpzTvcKa"
      },
      "execution_count": null,
      "outputs": []
    },
    {
      "cell_type": "code",
      "source": [
        "word_segments=merge_words(segments)"
      ],
      "metadata": {
        "id": "WtGaK8o-vvNF"
      },
      "execution_count": null,
      "outputs": []
    },
    {
      "cell_type": "code",
      "source": [
        "import IPython\n",
        "def display_segmenat(i):\n",
        "    ratio = audio.shpe[0] / graph.size(0)\n",
        "    word = word_segments[i]\n",
        "    x0 = int(ratio * word.start)\n",
        "    x1 = int(ratio * word.end)\n",
        "    print(f\"{word.label} ({word.score:.2f}): {x0 / 16000:.3f} - {x1 / 16000:.3f} sec\")\n",
        "    segment = audio[x0:x1]\n",
        "    return IPython.display.Audio(segment, rate=16000)\n"
      ],
      "metadata": {
        "id": "TZHUYlzgv2Mw"
      },
      "execution_count": null,
      "outputs": []
    },
    {
      "cell_type": "code",
      "source": [
        "word_segments"
      ],
      "metadata": {
        "colab": {
          "base_uri": "https://localhost:8080/"
        },
        "id": "jZPA-vY3wVxE",
        "outputId": "c86a75cd-979a-422b-81b9-a2be00f513c7"
      },
      "execution_count": null,
      "outputs": [
        {
          "output_type": "execute_result",
          "data": {
            "text/plain": [
              "[मुनिया\t(21336.01): [    0,    55),\n",
              " ने\t(45740.64): [   57,    63),\n",
              " उन्हें\t(178747.00): [   65,    83),\n",
              " मछली\t(21888.93): [   85,   104),\n",
              " पकड़ने\t(34218.14): [  106,   129),\n",
              " की\t(94118.48): [  131,   140),\n",
              " बंसीे\t(13848.72): [  143,   161),\n",
              " ले\t(137997.32): [  162,   168),\n",
              " कर\t(91333.66): [  169,   178),\n",
              " जाते\t(95343.97): [  179,   194),\n",
              " हुए\t(4944.21): [  196,   204),\n",
              " देखा\t(80843.79): [  206,   219)]"
            ]
          },
          "metadata": {},
          "execution_count": 129
        }
      ]
    },
    {
      "cell_type": "code",
      "source": [
        "display_segment(11)"
      ],
      "metadata": {
        "colab": {
          "base_uri": "https://localhost:8080/",
          "height": 93
        },
        "id": "b9GEmbYCxqgm",
        "outputId": "61853f63-0539-4b19-fc5f-8e57380187fb"
      },
      "execution_count": null,
      "outputs": [
        {
          "output_type": "stream",
          "name": "stdout",
          "text": [
            "देखा (80843.79): 4.139 - 4.400 sec\n"
          ]
        },
        {
          "output_type": "execute_result",
          "data": {
            "text/plain": [
              "<IPython.lib.display.Audio object>"
            ],
            "text/html": [
              "\n",
              "                <audio  controls=\"controls\" >\n",
              "                    <source src=\"data:audio/wav;base64,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\" type=\"audio/wav\" />\n",
              "                    Your browser does not support the audio element.\n",
              "                </audio>\n",
              "              "
            ]
          },
          "metadata": {},
          "execution_count": 140
        }
      ]
    },
    {
      "cell_type": "code",
      "source": [
        "model.processor.tokenizer.convert_ids_to_tokens(tokens)"
      ],
      "metadata": {
        "colab": {
          "base_uri": "https://localhost:8080/"
        },
        "id": "EJmpvTHzyY4f",
        "outputId": "d0883b2a-b195-436b-ff9f-e76178756513"
      },
      "execution_count": null,
      "outputs": [
        {
          "output_type": "execute_result",
          "data": {
            "text/plain": [
              "['औ',\n",
              " 'र',\n",
              " '|',\n",
              " 'अ',\n",
              " 'प',\n",
              " 'न',\n",
              " 'े',\n",
              " '|',\n",
              " 'प',\n",
              " 'े',\n",
              " 'ट',\n",
              " '|',\n",
              " 'क',\n",
              " 'ो',\n",
              " '|',\n",
              " 'म',\n",
              " 'ा',\n",
              " 'ँ',\n",
              " '|',\n",
              " 'क',\n",
              " 'ी',\n",
              " '|',\n",
              " 'स',\n",
              " '्',\n",
              " 'व',\n",
              " 'ा',\n",
              " 'द',\n",
              " 'ि',\n",
              " 'ष',\n",
              " '्',\n",
              " 'ट',\n",
              " '|',\n",
              " 'ग',\n",
              " 'र',\n",
              " 'म',\n",
              " 'ग',\n",
              " 'र',\n",
              " 'म',\n",
              " '|',\n",
              " 'ज',\n",
              " 'ल',\n",
              " 'े',\n",
              " 'ब',\n",
              " 'ि',\n",
              " 'य',\n",
              " 'ा',\n",
              " 'ँ',\n",
              " '|',\n",
              " 'ह',\n",
              " '<unk>',\n",
              " 'प',\n",
              " 'त',\n",
              " 'े']"
            ]
          },
          "metadata": {},
          "execution_count": 110
        }
      ]
    },
    {
      "cell_type": "code",
      "source": [],
      "metadata": {
        "id": "zuNwPn43y7bz"
      },
      "execution_count": null,
      "outputs": []
    }
  ],
  "metadata": {
    "accelerator": "GPU",
    "colab": {
      "gpuType": "T4",
      "provenance": []
    },
    "kernelspec": {
      "display_name": "Python 3",
      "name": "python3"
    },
    "language_info": {
      "name": "python"
    }
  },
  "nbformat": 4,
  "nbformat_minor": 0
}