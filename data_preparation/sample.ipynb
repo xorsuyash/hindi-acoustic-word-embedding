{
 "cells": [
  {
   "cell_type": "code",
   "execution_count": 1,
   "metadata": {},
   "outputs": [],
   "source": [
    "import os \n",
    "import pandas as pd \n",
    "\n"
   ]
  },
  {
   "cell_type": "code",
   "execution_count": 2,
   "metadata": {},
   "outputs": [],
   "source": [
    "df=pd.DataFrame()"
   ]
  },
  {
   "cell_type": "code",
   "execution_count": 6,
   "metadata": {},
   "outputs": [],
   "source": [
    "audio_paths=[]\n",
    "for i in range(len(path_list)):\n",
    "    audio_path=os.path.join('audio',path_list[i])\n",
    "    audio_paths.append(audio_path)"
   ]
  },
  {
   "cell_type": "code",
   "execution_count": 7,
   "metadata": {},
   "outputs": [
    {
     "data": {
      "text/plain": [
       "'audio/1599_086.wav'"
      ]
     },
     "execution_count": 7,
     "metadata": {},
     "output_type": "execute_result"
    }
   ],
   "source": [
    "audio_paths[1]"
   ]
  },
  {
   "cell_type": "code",
   "execution_count": 14,
   "metadata": {},
   "outputs": [],
   "source": [
    "os.getcwd()\n",
    "os.chdir('/home/suyash/c4gt/hindi-acoustic-word-embedding/data_preparation')"
   ]
  },
  {
   "cell_type": "code",
   "execution_count": 13,
   "metadata": {},
   "outputs": [],
   "source": [
    "def get_transcripts(file_path):\n",
    "    transcripts = []\n",
    "    audio_name = []\n",
    "    with open(file_path, 'r') as file:\n",
    "        lines = file.readlines()\n",
    "        for line in lines:\n",
    "            # Split each line and remove the number in front of the transcript\n",
    "            audio=line.split(' ')[0]\n",
    "            transcript = line.split(' ', 1)[1].strip()\n",
    "            transcripts.append(transcript)\n",
    "            audio_name.append(audio)\n",
    "    return transcripts,audio_name\n",
    "\n",
    "transcript_list,audio_list=get_transcripts('transcription.txt')"
   ]
  },
  {
   "cell_type": "code",
   "execution_count": 14,
   "metadata": {},
   "outputs": [
    {
     "data": {
      "text/plain": [
       "('और अपने पेट को माँ की स्वादिष्ट गरमगरम जलेबियाँ हड़पते', '0116_003')"
      ]
     },
     "execution_count": 14,
     "metadata": {},
     "output_type": "execute_result"
    }
   ],
   "source": [
    "transcript_list[0],audio_list[0]"
   ]
  },
  {
   "cell_type": "code",
   "execution_count": 15,
   "metadata": {},
   "outputs": [],
   "source": [
    "for i in range(len(audio_list)):\n",
    "    audio_list[i]=os.path.join('audio',f\"{audio_list[i]}.wav\")"
   ]
  },
  {
   "cell_type": "code",
   "execution_count": 16,
   "metadata": {},
   "outputs": [
    {
     "data": {
      "text/plain": [
       "'audio/0116_003.wav'"
      ]
     },
     "execution_count": 16,
     "metadata": {},
     "output_type": "execute_result"
    }
   ],
   "source": [
    "audio_list[0]"
   ]
  },
  {
   "cell_type": "code",
   "execution_count": 17,
   "metadata": {},
   "outputs": [],
   "source": [
    "df['audio_path']=audio_list\n",
    "df['transcripts']=transcript_list\n",
    "\n",
    "df.to_csv('audio_metadata.csv')"
   ]
  },
  {
   "cell_type": "code",
   "execution_count": 35,
   "metadata": {},
   "outputs": [],
   "source": [
    "tokenizer={\"<s>\": 1, \"<pad>\": 0, \"</s>\": 2, \"<unk>\": 3, \"|\": 4, \"ँ\": 5, \"ं\": 6, \"ः\": 7, \"अ\": 8, \"आ\": 9, \"इ\": 10, \"ई\": 11, \"उ\": 12, \"ऊ\": 13, \"ऋ\": 14, \"ए\": 15, \"ऐ\": 16, \"ऑ\": 17, \"ओ\": 18, \"औ\": 19, \"क\": 20, \"ख\": 21, \"ग\": 22, \"घ\": 23, \"ङ\": 24, \"च\": 25, \"छ\": 26, \"ज\": 27, \"झ\": 28, \"ञ\": 29, \"ट\": 30, \"ठ\": 31, \"ड\": 32, \"ढ\": 33, \"ण\": 34, \"त\": 35, \"थ\": 36, \"द\": 37, \"ध\": 38, \"न\": 39, \"प\": 40, \"फ\": 41, \"ब\": 42, \"भ\": 43, \"म\": 44, \"य\": 45, \"र\": 46, \"ल\": 47, \"व\": 48, \"श\": 49, \"ष\": 50, \"स\": 51, \"ह\": 52, \"़\": 53, \"ा\": 54, \"ि\": 55, \"ी\": 56, \"ु\": 57, \"ू\": 58, \"ृ\": 59, \"ॅ\": 60, \"े\": 61, \"ै\": 62, \"ॉ\": 63, \"ो\": 64, \"ौ\": 65, \"्\": 66, \"ळ\": 67}"
   ]
  },
  {
   "cell_type": "code",
   "execution_count": 36,
   "metadata": {},
   "outputs": [],
   "source": [
    "def preprocess_transcript(transcript):\n",
    "  words=transcript.split()\n",
    "  cleaned_words = [word.replace(\"ड़\", \"\") for word in words]\n",
    "  output_text = \"|\".join(cleaned_words)\n",
    "  return output_text\n",
    "\n",
    "def generate_tokenized_transcript(transcript):\n",
    "  \n",
    "  tokens=[tokenizer[c] for c in transcript]\n",
    "  \n",
    "  return tokens \n",
    "\n",
    "def preprocess_batch(sample):\n",
    "\n",
    "  return preprocess_transcript(sample[\"transcripts\"])\n",
    "\n",
    "def generate_tokens_batch(sample):\n",
    "\n",
    "  return generate_tokenized_transcript(sample[\"preprocessed_transcripts\"])"
   ]
  },
  {
   "cell_type": "code",
   "execution_count": 37,
   "metadata": {},
   "outputs": [],
   "source": [
    "df[\"preprocessed_transcripts\"]=df.apply(preprocess_batch,axis=1)\n",
    "df[\"new_2\"]=df.apply(generate_tokens_batch,axis=1)"
   ]
  },
  {
   "cell_type": "code",
   "execution_count": 38,
   "metadata": {},
   "outputs": [
    {
     "data": {
      "text/html": [
       "<div>\n",
       "<style scoped>\n",
       "    .dataframe tbody tr th:only-of-type {\n",
       "        vertical-align: middle;\n",
       "    }\n",
       "\n",
       "    .dataframe tbody tr th {\n",
       "        vertical-align: top;\n",
       "    }\n",
       "\n",
       "    .dataframe thead th {\n",
       "        text-align: right;\n",
       "    }\n",
       "</style>\n",
       "<table border=\"1\" class=\"dataframe\">\n",
       "  <thead>\n",
       "    <tr style=\"text-align: right;\">\n",
       "      <th></th>\n",
       "      <th>audio_path</th>\n",
       "      <th>transcripts</th>\n",
       "      <th>preprocessed_transcripts</th>\n",
       "      <th>new_2</th>\n",
       "    </tr>\n",
       "  </thead>\n",
       "  <tbody>\n",
       "    <tr>\n",
       "      <th>0</th>\n",
       "      <td>audio/2853_052.wav</td>\n",
       "      <td>और अपने पेट को माँ की स्वादिष्ट गरमगरम जलेबिया...</td>\n",
       "      <td>और|अपने|पेट|को|माँ|की|स्वादिष्ट|गरमगरम|जलेबिया...</td>\n",
       "      <td>[19, 46, 4, 8, 40, 39, 61, 4, 40, 61, 30, 4, 2...</td>\n",
       "    </tr>\n",
       "    <tr>\n",
       "      <th>1</th>\n",
       "      <td>audio/1599_086.wav</td>\n",
       "      <td>और अपने पेट को माँ की स्वादिष्ट गरमगरम जलेबिया...</td>\n",
       "      <td>और|अपने|पेट|को|माँ|की|स्वादिष्ट|गरमगरम|जलेबिया...</td>\n",
       "      <td>[19, 46, 4, 8, 40, 39, 61, 4, 40, 61, 30, 4, 2...</td>\n",
       "    </tr>\n",
       "    <tr>\n",
       "      <th>2</th>\n",
       "      <td>audio/0167_003.wav</td>\n",
       "      <td>और अपने पेट को माँ की स्वादिष्ट गरमगरम जलेबिया...</td>\n",
       "      <td>और|अपने|पेट|को|माँ|की|स्वादिष्ट|गरमगरम|जलेबिया...</td>\n",
       "      <td>[19, 46, 4, 8, 40, 39, 61, 4, 40, 61, 30, 4, 2...</td>\n",
       "    </tr>\n",
       "    <tr>\n",
       "      <th>3</th>\n",
       "      <td>audio/5824_066.wav</td>\n",
       "      <td>और अपने पेट को माँ की स्वादिष्ट गरमगरम जलेबिया...</td>\n",
       "      <td>और|अपने|पेट|को|माँ|की|स्वादिष्ट|गरमगरम|जलेबिया...</td>\n",
       "      <td>[19, 46, 4, 8, 40, 39, 61, 4, 40, 61, 30, 4, 2...</td>\n",
       "    </tr>\n",
       "    <tr>\n",
       "      <th>4</th>\n",
       "      <td>audio/2961_066.wav</td>\n",
       "      <td>और अपने पेट को माँ की स्वादिष्ट गरमगरम जलेबिया...</td>\n",
       "      <td>और|अपने|पेट|को|माँ|की|स्वादिष्ट|गरमगरम|जलेबिया...</td>\n",
       "      <td>[19, 46, 4, 8, 40, 39, 61, 4, 40, 61, 30, 4, 2...</td>\n",
       "    </tr>\n",
       "  </tbody>\n",
       "</table>\n",
       "</div>"
      ],
      "text/plain": [
       "           audio_path                                        transcripts  \\\n",
       "0  audio/2853_052.wav  और अपने पेट को माँ की स्वादिष्ट गरमगरम जलेबिया...   \n",
       "1  audio/1599_086.wav  और अपने पेट को माँ की स्वादिष्ट गरमगरम जलेबिया...   \n",
       "2  audio/0167_003.wav  और अपने पेट को माँ की स्वादिष्ट गरमगरम जलेबिया...   \n",
       "3  audio/5824_066.wav  और अपने पेट को माँ की स्वादिष्ट गरमगरम जलेबिया...   \n",
       "4  audio/2961_066.wav  और अपने पेट को माँ की स्वादिष्ट गरमगरम जलेबिया...   \n",
       "\n",
       "                            preprocessed_transcripts  \\\n",
       "0  और|अपने|पेट|को|माँ|की|स्वादिष्ट|गरमगरम|जलेबिया...   \n",
       "1  और|अपने|पेट|को|माँ|की|स्वादिष्ट|गरमगरम|जलेबिया...   \n",
       "2  और|अपने|पेट|को|माँ|की|स्वादिष्ट|गरमगरम|जलेबिया...   \n",
       "3  और|अपने|पेट|को|माँ|की|स्वादिष्ट|गरमगरम|जलेबिया...   \n",
       "4  और|अपने|पेट|को|माँ|की|स्वादिष्ट|गरमगरम|जलेबिया...   \n",
       "\n",
       "                                               new_2  \n",
       "0  [19, 46, 4, 8, 40, 39, 61, 4, 40, 61, 30, 4, 2...  \n",
       "1  [19, 46, 4, 8, 40, 39, 61, 4, 40, 61, 30, 4, 2...  \n",
       "2  [19, 46, 4, 8, 40, 39, 61, 4, 40, 61, 30, 4, 2...  \n",
       "3  [19, 46, 4, 8, 40, 39, 61, 4, 40, 61, 30, 4, 2...  \n",
       "4  [19, 46, 4, 8, 40, 39, 61, 4, 40, 61, 30, 4, 2...  "
      ]
     },
     "execution_count": 38,
     "metadata": {},
     "output_type": "execute_result"
    }
   ],
   "source": [
    "df.head()"
   ]
  },
  {
   "cell_type": "code",
   "execution_count": null,
   "metadata": {},
   "outputs": [],
   "source": []
  }
 ],
 "metadata": {
  "kernelspec": {
   "display_name": "pytorch",
   "language": "python",
   "name": "python3"
  },
  "language_info": {
   "codemirror_mode": {
    "name": "ipython",
    "version": 3
   },
   "file_extension": ".py",
   "mimetype": "text/x-python",
   "name": "python",
   "nbconvert_exporter": "python",
   "pygments_lexer": "ipython3",
   "version": "3.1.undefined"
  }
 },
 "nbformat": 4,
 "nbformat_minor": 2
}
